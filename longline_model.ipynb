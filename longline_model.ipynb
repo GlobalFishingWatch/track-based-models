{
 "cells": [
  {
   "cell_type": "code",
   "execution_count": 3,
   "metadata": {},
   "outputs": [],
   "source": [
    "from __future__ import division\n",
    "from __future__ import print_function\n",
    "from collections import namedtuple\n",
    "import datetime\n",
    "import dateutil.parser\n",
    "from glob import glob\n",
    "import json\n",
    "import matplotlib.pyplot as plt\n",
    "import numpy as np\n",
    "import os\n",
    "import time\n",
    "import pandas as pd\n",
    "import pandas.io.gbq\n",
    "import pickle\n",
    "from sklearn.model_selection import KFold\n",
    "%matplotlib inline\n",
    "\n",
    "# This is a DAGEROUS workaround to having two KMP libraries linked\n",
    "# Would be better to figure out conflict\n",
    "os.environ['KMP_DUPLICATE_LIB_OK'] = 'TRUE'\n",
    "\n",
    "plt.rcParams['figure.figsize'] = [10, 5]\n",
    "\n",
    "from track_based_models import longline_data, predict_longline_setting, longline_sets_models\n",
    "from track_based_models import util\n",
    "from track_based_models.util import minute, hour"
   ]
  },
  {
   "cell_type": "code",
   "execution_count": 4,
   "metadata": {},
   "outputs": [],
   "source": [
    "# Step 1. Figure out where we are going to get the train and test data\n",
    "# Break up by boat – if we validate using the same boat validated by\n",
    "# two different people it will wildly optimistic\n",
    "\n",
    "paths = sorted((glob(\"../birdlife/labeled_data/without_logbook_data/*.json\") +\n",
    "                glob(\"../birdlife/labeled_data/with_logbook_data/*.json\")))\n",
    "\n",
    "all_paths = paths + glob(\"../birdlife/unlabelled_data/*.json\") + glob(\"../../birdlife/allboats/*.json\")"
   ]
  },
  {
   "cell_type": "code",
   "execution_count": 5,
   "metadata": {},
   "outputs": [],
   "source": [
    "ssvid = sorted(set([os.path.basename(x).split('_')[0] for x in paths]))"
   ]
  },
  {
   "cell_type": "code",
   "execution_count": 6,
   "metadata": {},
   "outputs": [
    {
     "name": "stderr",
     "output_type": "stream",
     "text": [
      "//anaconda/envs/p3ml/lib/python3.7/site-packages/google/auth/_default.py:66: UserWarning: Your application has authenticated using end user credentials from Google Cloud SDK. We recommend that most server applications use service accounts instead. If your application continues to use end user credentials from Cloud SDK, you might receive a \"quota exceeded\" or \"API not enabled\" error. For more information about service accounts, see https://cloud.google.com/docs/authentication/\n",
      "  warnings.warn(_CLOUD_SDK_CREDENTIALS_WARNING)\n"
     ]
    }
   ],
   "source": [
    "query = '''\n",
    "select * from \n",
    "(select id as ssvid, * from `machine_learning_dev_ttl_120d.test_loitering_features_mmsi_2_2017*`\n",
    ") features\n",
    "where \n",
    "ssvid in ({})\n",
    "order by timestamp\n",
    "'''.format(\n",
    "','.join(['\"{}\"'.format(x) for x in ssvid])\n",
    ")\n",
    "all_features = pd.read_gbq(query, project_id='world-fishing-827', dialect='standard')"
   ]
  },
  {
   "cell_type": "code",
   "execution_count": 7,
   "metadata": {},
   "outputs": [
    {
     "data": {
      "text/plain": [
       "13"
      ]
     },
     "execution_count": 7,
     "metadata": {},
     "output_type": "execute_result"
    }
   ],
   "source": [
    "len(set(all_features.ssvid)) # 13"
   ]
  },
  {
   "cell_type": "markdown",
   "metadata": {},
   "source": [
    "## Cross Validation"
   ]
  },
  {
   "cell_type": "code",
   "execution_count": 22,
   "metadata": {},
   "outputs": [
    {
     "ename": "NameError",
     "evalue": "name 'KFold' is not defined",
     "output_type": "error",
     "traceback": [
      "\u001b[0;31m---------------------------------------------------------------------------\u001b[0m",
      "\u001b[0;31mNameError\u001b[0m                                 Traceback (most recent call last)",
      "\u001b[0;32m<ipython-input-22-db969dbd463c>\u001b[0m in \u001b[0;36m<module>\u001b[0;34m\u001b[0m\n\u001b[1;32m     33\u001b[0m \u001b[0;34m\u001b[0m\u001b[0m\n\u001b[1;32m     34\u001b[0m \u001b[0;34m\u001b[0m\u001b[0m\n\u001b[0;32m---> 35\u001b[0;31m \u001b[0mfolder\u001b[0m \u001b[0;34m=\u001b[0m \u001b[0mKFold\u001b[0m\u001b[0;34m(\u001b[0m\u001b[0mn_splits\u001b[0m\u001b[0;34m=\u001b[0m\u001b[0;36m5\u001b[0m\u001b[0;34m,\u001b[0m \u001b[0mrandom_state\u001b[0m\u001b[0;34m=\u001b[0m\u001b[0;36m888\u001b[0m\u001b[0;34m,\u001b[0m \u001b[0mshuffle\u001b[0m\u001b[0;34m=\u001b[0m\u001b[0;32mTrue\u001b[0m\u001b[0;34m)\u001b[0m\u001b[0;34m\u001b[0m\u001b[0;34m\u001b[0m\u001b[0m\n\u001b[0m\u001b[1;32m     36\u001b[0m \u001b[0mall_agreements\u001b[0m \u001b[0;34m=\u001b[0m \u001b[0;34m{\u001b[0m\u001b[0;34m}\u001b[0m\u001b[0;34m\u001b[0m\u001b[0;34m\u001b[0m\u001b[0m\n\u001b[1;32m     37\u001b[0m \u001b[0;32mfor\u001b[0m \u001b[0mi\u001b[0m\u001b[0;34m,\u001b[0m \u001b[0;34m(\u001b[0m\u001b[0mtrain_index\u001b[0m\u001b[0;34m,\u001b[0m \u001b[0mtest_index\u001b[0m\u001b[0;34m)\u001b[0m \u001b[0;32min\u001b[0m \u001b[0menumerate\u001b[0m\u001b[0;34m(\u001b[0m\u001b[0mfolder\u001b[0m\u001b[0;34m.\u001b[0m\u001b[0msplit\u001b[0m\u001b[0;34m(\u001b[0m\u001b[0mdata_sets\u001b[0m\u001b[0;34m)\u001b[0m\u001b[0;34m)\u001b[0m\u001b[0;34m:\u001b[0m\u001b[0;34m\u001b[0m\u001b[0;34m\u001b[0m\u001b[0m\n",
      "\u001b[0;31mNameError\u001b[0m: name 'KFold' is not defined"
     ]
    }
   ],
   "source": [
    "import imp, track_based_models.longline_sets_models, track_based_models.longline_data\n",
    "imp.reload(track_based_models.base_model)\n",
    "imp.reload(track_based_models.longline_sets_models)\n",
    "imp.reload(track_based_models.longline_data)\n",
    "imp.reload(track_based_models.util)\n",
    "from track_based_models.longline_sets_models import ConvNetModel5\n",
    "\n",
    "max_epochs = 30\n",
    "keep_fracs = [1, 0.75, 0.5, 0.25]\n",
    "batch_size = 32\n",
    "\n",
    "f1_scores = []\n",
    "class_b_f1_scores = []\n",
    "david_class_b_f1_scores = []\n",
    "\n",
    "def test_model(mdl, test_sets, min_samples, keep_frac=1.0):\n",
    "    times, features, labels, _, defined = longline_data.generate_data(test_sets, \n",
    "                                                window=ConvNetModel5.window, delta=ConvNetModel5.delta, \n",
    "                                               min_samples=1000, keep_fracs=(keep_frac,), noise=0,\n",
    "                                               precomp_features=all_features)\n",
    "    predictions = mdl.predict(features)\n",
    "    print(\"model accuracy:\", accuracy_score(labels, predictions, sample_weight=defined))\n",
    "    precision, recall, fscore, support = precision_recall_fscore_support(labels, predictions, sample_weight=defined)\n",
    "    print(\"model precision:\", precision[1])\n",
    "    print(\"model recall:\", recall[1])\n",
    "    print(\"model f1-score:\", fscore[1])\n",
    "    print(\"model set support:\", support[1])\n",
    "    print()\n",
    "    return fscore\n",
    "    \n",
    "\n",
    "data_sets = paths\n",
    "\n",
    "    \n",
    "folder = KFold(n_splits=5, random_state=888, shuffle=True)\n",
    "all_agreements = {}\n",
    "for i, (train_index, test_index) in enumerate(folder.split(data_sets)):\n",
    "    print(\"Fold\", i)\n",
    "    data_sets_array = np.asarray(data_sets)\n",
    "    train_sets = data_sets_array[train_index]\n",
    "    test_sets = data_sets_array[test_index]\n",
    "    \n",
    "    # Train the model\n",
    "    print('generating data')\n",
    "    xtimes, xfeatures, xlabels, _, xdefined = longline_data.generate_data(train_sets, min_samples=1000, \n",
    "                                                                        window=longline_model.ConvNetModel5.window, \n",
    "                                                                          delta=longline_model.ConvNetModel5.delta, \n",
    "                                                                        keep_fracs=keep_fracs,\n",
    "                                                                       force_local=False, \n",
    "                                                                          precomp_features=all_features)\n",
    "    print('training')\n",
    "    mdl = longline_model.ConvNetModel5().fit(xfeatures, xlabels, epochs=max_epochs, \n",
    "                              sample_weight=xdefined, batch_size=batch_size)\n",
    "\n",
    "    \n",
    "    # Test the model\n",
    "    print('testing')\n",
    "    fscore = test_model(mdl, test_sets, min_samples=1000)\n",
    "    f1_scores.append(fscore[1])\n",
    "\n",
    "        \n",
    "print(\"Score derived from random sampling:\")\n",
    "print(\"  Average F1-Score:\", np.mean(f1_scores))\n",
    "# 0.9167440972301417 11, one sided\n",
    "# 0.910695424990904  5, one sided\n",
    "#   Average F1-Score: 0.9223069457487714 # 30 epochs 5, one-sided"
   ]
  },
  {
   "cell_type": "code",
   "execution_count": 23,
   "metadata": {},
   "outputs": [
    {
     "ename": "NameError",
     "evalue": "name 'mdl' is not defined",
     "output_type": "error",
     "traceback": [
      "\u001b[0;31m---------------------------------------------------------------------------\u001b[0m",
      "\u001b[0;31mNameError\u001b[0m                                 Traceback (most recent call last)",
      "\u001b[0;32m<ipython-input-23-db734c76eed1>\u001b[0m in \u001b[0;36m<module>\u001b[0;34m\u001b[0m\n\u001b[1;32m      1\u001b[0m \u001b[0;31m# Train the model on all of the data\u001b[0m\u001b[0;34m\u001b[0m\u001b[0;34m\u001b[0m\u001b[0;34m\u001b[0m\u001b[0m\n\u001b[1;32m      2\u001b[0m times, features, labels, _, defined = track_based_models.longline_data.generate_data(data_sets, min_samples=1000, \n\u001b[0;32m----> 3\u001b[0;31m                                                                           \u001b[0mwindow\u001b[0m\u001b[0;34m=\u001b[0m\u001b[0mmdl\u001b[0m\u001b[0;34m.\u001b[0m\u001b[0mwindow\u001b[0m\u001b[0;34m,\u001b[0m\u001b[0;34m\u001b[0m\u001b[0;34m\u001b[0m\u001b[0m\n\u001b[0m\u001b[1;32m      4\u001b[0m                                            delta=mdl.delta, keep_fracs=keep_fracs, precomp_features=all_features)\n\u001b[1;32m      5\u001b[0m \u001b[0mmdl_all\u001b[0m \u001b[0;34m=\u001b[0m \u001b[0mConvNetModel5\u001b[0m\u001b[0;34m(\u001b[0m\u001b[0;34m)\u001b[0m\u001b[0;34m.\u001b[0m\u001b[0mfit\u001b[0m\u001b[0;34m(\u001b[0m\u001b[0mfeatures\u001b[0m\u001b[0;34m,\u001b[0m \u001b[0mlabels\u001b[0m\u001b[0;34m,\u001b[0m \u001b[0mepochs\u001b[0m\u001b[0;34m=\u001b[0m\u001b[0;36m30\u001b[0m\u001b[0;34m)\u001b[0m\u001b[0;34m\u001b[0m\u001b[0;34m\u001b[0m\u001b[0m\n",
      "\u001b[0;31mNameError\u001b[0m: name 'mdl' is not defined"
     ]
    }
   ],
   "source": [
    "# Train the model on all of the data\n",
    "times, features, labels, _, defined = track_based_models.longline_data.generate_data(data_sets, min_samples=1000, \n",
    "                                                                          window=mdl.window, \n",
    "                                           delta=mdl.delta, keep_fracs=keep_fracs, precomp_features=all_features)\n",
    "mdl_all = ConvNetModel5().fit(features, labels, epochs=30)"
   ]
  },
  {
   "cell_type": "markdown",
   "metadata": {},
   "source": [
    "1. (X) Train on all.\n",
    "2. (X) Save as h5 file\n",
    "3. (X) Get standalone working.\n",
    "4. ( ) Run features for all of 2017\n",
    "5. ( ) Copy run iference using the Keras version -- should be easier!\n",
    "6. ( ) Run on all longliners for 2017.\n",
    "7. ( ) Have someone spot check.\n",
    "8. ( ) Copy over to loitering."
   ]
  },
  {
   "cell_type": "code",
   "execution_count": 50,
   "metadata": {},
   "outputs": [],
   "source": [
    "# mdl_all.save('longline_model_v20190612.h5')"
   ]
  },
  {
   "cell_type": "markdown",
   "metadata": {},
   "source": [
    "## Compare With Original"
   ]
  },
  {
   "cell_type": "code",
   "execution_count": 8,
   "metadata": {},
   "outputs": [],
   "source": [
    "with open('data/birdlife_ais_data.pkl', 'rb') as f:\n",
    "    birdlife_ais_data = pickle.load(f)"
   ]
  },
  {
   "cell_type": "code",
   "execution_count": 9,
   "metadata": {},
   "outputs": [],
   "source": [
    "def compare(obj, times, predictions):\n",
    "    p = obj['path'].replace('../..', '..')\n",
    "    with open(p) as f:\n",
    "        orig_obj = json.load(f)\n",
    "        orig = pd.DataFrame({\n",
    "            'timestamp' : orig_obj['timestamps'],\n",
    "            'fishing' : orig_obj['fishing'],\n",
    "            'mmsi' : [orig_obj['mmsi']] * len(orig_obj['timestamps'])\n",
    "        })\n",
    "    orig['timestamp'] = [dateutil.parser.parse(x) for x in orig['timestamp']]\n",
    "    data = add_predictions(orig, times, predictions)\n",
    "    assert len(data) == len(orig.timestamp)#, (len(data), len(orig['timestamp']))\n",
    "    inferred = data.inferred_setting.values\n",
    "    annotated = data.fishing.values\n",
    "    defined = (data.fishing != 0)\n",
    "    mask = ~np.isnan(inferred) & ~np.isnan(annotated) & defined\n",
    "    match = (inferred == 1) == (annotated == 1)\n",
    "    true_pos = (match & (annotated == 1))[mask].sum()\n",
    "    all_true = (inferred == 1)[mask].sum()\n",
    "    all_pos  = (annotated == 1)[mask].sum()\n",
    "    prec = true_pos / all_pos\n",
    "    rec = true_pos / all_true\n",
    "    f1 = 2 / (1 / prec + 1 / rec)\n",
    "    acc = match[mask].sum() / mask.sum()\n",
    "    orig_obj['timestamps'] = [dateutil.parser.parse(x) for x in orig_obj['timestamps']]\n",
    "    return orig_obj, data, {'accuracy' : acc, 'F1' : f1, 'precision' : prec, 'recall' : rec}\n",
    "\n",
    "def add_predictions(data, times, predictions):\n",
    "    preds = np.empty(len(data), dtype=float)\n",
    "    assert len(times) == len(predictions)\n",
    "    timestamps = [x.to_pydatetime() for x in data.timestamp]\n",
    "    assert util.is_sorted(timestamps)\n",
    "    preds.fill(np.nan)\n",
    "    for t, p in zip(times, predictions):\n",
    "        t0 = t - datetime.timedelta(seconds=ConvNetModel5.delta // 2)\n",
    "        t1 = t + datetime.timedelta(seconds=ConvNetModel5.delta // 2)\n",
    "        i0 = np.searchsorted(timestamps, t0, side='left')\n",
    "        i1 = np.searchsorted(timestamps, t1, side='right')\n",
    "        preds[i0:i1] = p\n",
    "    data = data.copy()\n",
    "    data['inferred_setting'] = preds\n",
    "    return data"
   ]
  },
  {
   "cell_type": "code",
   "execution_count": 25,
   "metadata": {},
   "outputs": [
    {
     "name": "stdout",
     "output_type": "stream",
     "text": [
      "....................................."
     ]
    }
   ],
   "source": [
    "import imp, track_based_models.longline_sets_models, track_based_models.longline_data\n",
    "imp.reload(track_based_models.longline_sets_models)\n",
    "imp.reload(track_based_models.longline_data)\n",
    "imp.reload(track_based_models.predict_longline_setting)\n",
    "from track_based_models.longline_sets_models import ConvNetModel5\n",
    "\n",
    "imp.reload(predict_longline_setting)\n",
    "\n",
    "metrics_list = []\n",
    "objs_list = []\n",
    "for base_obj in birdlife_ais_data:\n",
    "    ssvid = base_obj['mmsi']\n",
    "    t0 = base_obj['timestamps'][0]\n",
    "    t1 = base_obj['timestamps'][-1]\n",
    "    data = predict_longline_setting.features_to_data(all_features, ssvid, t0, t1)\n",
    "    times, predictions = predict_longline_setting.predict_set_times(\n",
    "                                    'gs://machine-learning-dev-ttl-120d/longline_model_v20190612.h5', data)\n",
    "    orig_obj, orig, metrics = compare(base_obj, times, predictions)\n",
    "    metrics_list.append(metrics)\n",
    "    objs_list.append((orig_obj, orig, times, predictions))\n",
    "    print('.', end='')"
   ]
  },
  {
   "cell_type": "code",
   "execution_count": 26,
   "metadata": {},
   "outputs": [
    {
     "name": "stdout",
     "output_type": "stream",
     "text": [
      "37 0.8545812824063037\n"
     ]
    }
   ],
   "source": [
    "print(len(metrics_list), np.mean([x['F1'] for x in metrics_list]))\n",
    "# 0.8587006713736698 0.8765266861195162 0.8528620543033096 0.8507986578373596"
   ]
  },
  {
   "cell_type": "code",
   "execution_count": 27,
   "metadata": {},
   "outputs": [
    {
     "data": {
      "text/plain": [
       "[<matplotlib.lines.Line2D at 0x7fa10214f9b0>]"
      ]
     },
     "execution_count": 27,
     "metadata": {},
     "output_type": "execute_result"
    },
    {
     "data": {
      "image/png": "[encoded data removed]",
      "text/plain": [
       "<Figure size 864x432 with 1 Axes>"
      ]
     },
     "metadata": {
      "needs_background": "light"
     },
     "output_type": "display_data"
    }
   ],
   "source": [
    "from pandas.plotting import register_matplotlib_converters\n",
    "register_matplotlib_converters()\n",
    "plt.figure(figsize=(12, 6))\n",
    "orig_obj, orig, times, predictions = objs_list[10]\n",
    "mask = (orig['fishing'] != 0)\n",
    "plt.plot(orig['timestamp'][mask], orig['fishing'][mask] == 1, 'r.')\n",
    "plt.plot(times, predictions)"
   ]
  },
  {
   "cell_type": "code",
   "execution_count": null,
   "metadata": {},
   "outputs": [],
   "source": []
  }
 ],
 "metadata": {
  "kernelspec": {
   "display_name": "Python 3",
   "language": "python",
   "name": "python3"
  }
 },
 "nbformat": 4,
 "nbformat_minor": 2
}
